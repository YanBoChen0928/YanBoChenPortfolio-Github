{
  "cells": [
    {
      "cell_type": "markdown",
      "metadata": {
        "id": "view-in-github",
        "colab_type": "text"
      },
      "source": [
        "<a href=\"https://colab.research.google.com/github/YanBoChen0928/YanBoChenPortfolio-Github/blob/main/Guess_Number.ipynb\" target=\"_parent\"><img src=\"https://colab.research.google.com/assets/colab-badge.svg\" alt=\"Open In Colab\"/></a>"
      ]
    },
    {
      "cell_type": "code",
      "execution_count": null,
      "metadata": {
        "colab": {
          "base_uri": "https://localhost:8080/",
          "height": 599
        },
        "id": "9VwPn2fJrRtR",
        "outputId": "181315b5-04b8-4d70-c4b6-1123a4d9a8f0"
      },
      "outputs": [
        {
          "output_type": "stream",
          "name": "stdout",
          "text": [
            "\n",
            "\n",
            "I am thingking of a 3-digit number with no repeated digits.\n",
            "Try to guess what it is. Here are some clues:\n",
            "When I say:       That means:\n",
            "B                   one digit is correct but in the wrong position.\n",
            "A                   one digit is correct and in the correct position.\n",
            "Ah_Ah               No digit is correct.\n",
            "For example, if the secret number was 248, and your guess was 843, the clues\n",
            "would be A B. \n",
            "I have thought up a number.\n",
            " You have 15 guesses to get it.\n",
            "Guess #1: \n"
          ]
        },
        {
          "output_type": "error",
          "ename": "KeyboardInterrupt",
          "evalue": "Interrupted by user",
          "traceback": [
            "\u001b[0;31m---------------------------------------------------------------------------\u001b[0m",
            "\u001b[0;31mKeyboardInterrupt\u001b[0m                         Traceback (most recent call last)",
            "\u001b[0;32m<ipython-input-1-fd377e8179dc>\u001b[0m in \u001b[0;36m<cell line: 43>\u001b[0;34m()\u001b[0m\n\u001b[1;32m     51\u001b[0m             \u001b[0;32mwhile\u001b[0m \u001b[0mlen\u001b[0m\u001b[0;34m(\u001b[0m\u001b[0mguess\u001b[0m\u001b[0;34m)\u001b[0m \u001b[0;34m!=\u001b[0m \u001b[0mNUM_DIGITS\u001b[0m \u001b[0;32mor\u001b[0m \u001b[0;32mnot\u001b[0m \u001b[0mguess\u001b[0m\u001b[0;34m.\u001b[0m\u001b[0misdecimal\u001b[0m\u001b[0;34m(\u001b[0m\u001b[0;34m)\u001b[0m\u001b[0;34m:\u001b[0m\u001b[0;34m\u001b[0m\u001b[0;34m\u001b[0m\u001b[0m\n\u001b[1;32m     52\u001b[0m                 \u001b[0mprint\u001b[0m\u001b[0;34m(\u001b[0m\u001b[0;34m'Guess #{}: '\u001b[0m\u001b[0;34m.\u001b[0m\u001b[0mformat\u001b[0m\u001b[0;34m(\u001b[0m\u001b[0mnumGuesses\u001b[0m\u001b[0;34m)\u001b[0m\u001b[0;34m)\u001b[0m\u001b[0;34m\u001b[0m\u001b[0;34m\u001b[0m\u001b[0m\n\u001b[0;32m---> 53\u001b[0;31m                 \u001b[0mguess\u001b[0m \u001b[0;34m=\u001b[0m \u001b[0minput\u001b[0m\u001b[0;34m(\u001b[0m\u001b[0;34m'> '\u001b[0m\u001b[0;34m)\u001b[0m\u001b[0;34m\u001b[0m\u001b[0;34m\u001b[0m\u001b[0m\n\u001b[0m\u001b[1;32m     54\u001b[0m \u001b[0;34m\u001b[0m\u001b[0m\n\u001b[1;32m     55\u001b[0m             \u001b[0mclues\u001b[0m \u001b[0;34m=\u001b[0m \u001b[0mgetClues\u001b[0m\u001b[0;34m(\u001b[0m\u001b[0mguess\u001b[0m\u001b[0;34m,\u001b[0m \u001b[0msecretNum\u001b[0m\u001b[0;34m)\u001b[0m\u001b[0;34m\u001b[0m\u001b[0;34m\u001b[0m\u001b[0m\n",
            "\u001b[0;32m/usr/local/lib/python3.10/dist-packages/ipykernel/kernelbase.py\u001b[0m in \u001b[0;36mraw_input\u001b[0;34m(self, prompt)\u001b[0m\n\u001b[1;32m    849\u001b[0m                 \u001b[0;34m\"raw_input was called, but this frontend does not support input requests.\"\u001b[0m\u001b[0;34m\u001b[0m\u001b[0;34m\u001b[0m\u001b[0m\n\u001b[1;32m    850\u001b[0m             )\n\u001b[0;32m--> 851\u001b[0;31m         return self._input_request(str(prompt),\n\u001b[0m\u001b[1;32m    852\u001b[0m             \u001b[0mself\u001b[0m\u001b[0;34m.\u001b[0m\u001b[0m_parent_ident\u001b[0m\u001b[0;34m,\u001b[0m\u001b[0;34m\u001b[0m\u001b[0;34m\u001b[0m\u001b[0m\n\u001b[1;32m    853\u001b[0m             \u001b[0mself\u001b[0m\u001b[0;34m.\u001b[0m\u001b[0m_parent_header\u001b[0m\u001b[0;34m,\u001b[0m\u001b[0;34m\u001b[0m\u001b[0;34m\u001b[0m\u001b[0m\n",
            "\u001b[0;32m/usr/local/lib/python3.10/dist-packages/ipykernel/kernelbase.py\u001b[0m in \u001b[0;36m_input_request\u001b[0;34m(self, prompt, ident, parent, password)\u001b[0m\n\u001b[1;32m    893\u001b[0m             \u001b[0;32mexcept\u001b[0m \u001b[0mKeyboardInterrupt\u001b[0m\u001b[0;34m:\u001b[0m\u001b[0;34m\u001b[0m\u001b[0;34m\u001b[0m\u001b[0m\n\u001b[1;32m    894\u001b[0m                 \u001b[0;31m# re-raise KeyboardInterrupt, to truncate traceback\u001b[0m\u001b[0;34m\u001b[0m\u001b[0;34m\u001b[0m\u001b[0m\n\u001b[0;32m--> 895\u001b[0;31m                 \u001b[0;32mraise\u001b[0m \u001b[0mKeyboardInterrupt\u001b[0m\u001b[0;34m(\u001b[0m\u001b[0;34m\"Interrupted by user\"\u001b[0m\u001b[0;34m)\u001b[0m \u001b[0;32mfrom\u001b[0m \u001b[0;32mNone\u001b[0m\u001b[0;34m\u001b[0m\u001b[0;34m\u001b[0m\u001b[0m\n\u001b[0m\u001b[1;32m    896\u001b[0m             \u001b[0;32mexcept\u001b[0m \u001b[0mException\u001b[0m \u001b[0;32mas\u001b[0m \u001b[0me\u001b[0m\u001b[0;34m:\u001b[0m\u001b[0;34m\u001b[0m\u001b[0;34m\u001b[0m\u001b[0m\n\u001b[1;32m    897\u001b[0m                 \u001b[0mself\u001b[0m\u001b[0;34m.\u001b[0m\u001b[0mlog\u001b[0m\u001b[0;34m.\u001b[0m\u001b[0mwarning\u001b[0m\u001b[0;34m(\u001b[0m\u001b[0;34m\"Invalid Message:\"\u001b[0m\u001b[0;34m,\u001b[0m \u001b[0mexc_info\u001b[0m\u001b[0;34m=\u001b[0m\u001b[0;32mTrue\u001b[0m\u001b[0;34m)\u001b[0m\u001b[0;34m\u001b[0m\u001b[0;34m\u001b[0m\u001b[0m\n",
            "\u001b[0;31mKeyboardInterrupt\u001b[0m: Interrupted by user"
          ]
        }
      ],
      "source": [
        "import random\n",
        "\n",
        "NUM_DIGITS = 3\n",
        "MAX_GUESSES = 15\n",
        "\n",
        "def getSecretNum():\n",
        "    numbers = list('0123456789')\n",
        "    random.shuffle(numbers)\n",
        "\n",
        "    secretNum = ''\n",
        "    for i in range(NUM_DIGITS):\n",
        "        secretNum += str(numbers[i])\n",
        "    return secretNum\n",
        "\n",
        "def getClues(guess, secretNum):\n",
        "    if guess == secretNum:\n",
        "        return 'You got it!'\n",
        "\n",
        "    clues = []\n",
        "\n",
        "    for i in range(len(guess)):\n",
        "        if guess[i] == secretNum[i]:\n",
        "            clues.append('A')\n",
        "        elif guess[i] in secretNum:\n",
        "            clues.append('B')\n",
        "    if len(clues) == 0:\n",
        "        return 'Ah_Ah'\n",
        "    else:\n",
        "        clues.sort()\n",
        "        return ' '.join(clues)\n",
        "\n",
        "print('''\n",
        "\n",
        "I am thingking of a {}-digit number with no repeated digits.\n",
        "Try to guess what it is. Here are some clues:\n",
        "When I say:       That means:\n",
        "B                   one digit is correct but in the wrong position.\n",
        "A                   one digit is correct and in the correct position.\n",
        "Ah_Ah               No digit is correct.\n",
        "For example, if the secret number was 248, and your guess was 843, the clues\n",
        "would be A B. '''.format(NUM_DIGITS))\n",
        "\n",
        "while True:\n",
        "        secretNum = getSecretNum()\n",
        "        print('I have thought up a number.')\n",
        "        print(' You have {} guesses to get it.'.format(MAX_GUESSES))\n",
        "\n",
        "        numGuesses = 1\n",
        "        while numGuesses <= MAX_GUESSES:\n",
        "            guess = ''\n",
        "            while len(guess) != NUM_DIGITS or not guess.isdecimal():\n",
        "                print('Guess #{}: '.format(numGuesses))\n",
        "                guess = input('> ')\n",
        "\n",
        "            clues = getClues(guess, secretNum)\n",
        "            print(clues)\n",
        "            numGuesses += 1\n",
        "\n",
        "            if guess == str(secretNum):\n",
        "                break\n",
        "            if numGuesses > MAX_GUESSES:\n",
        "                print('You ran out of guesses.')\n",
        "                print('The answer was {}.'.format(secretNum))\n",
        "\n",
        "        print('Do you want to play again? (yes or no)')\n",
        "        if not input('> ').lower().startswith('y'):\n",
        "            break\n",
        "        print('Thanks for playing!')\n",
        "\n"
      ]
    }
  ],
  "metadata": {
    "colab": {
      "provenance": [],
      "include_colab_link": true
    },
    "kernelspec": {
      "display_name": "Python 3",
      "name": "python3"
    },
    "language_info": {
      "name": "python"
    }
  },
  "nbformat": 4,
  "nbformat_minor": 0
}